{
 "cells": [
  {
   "cell_type": "markdown",
   "metadata": {},
   "source": [
    "# Rock Papper Scissors"
   ]
  },
  {
   "cell_type": "markdown",
   "metadata": {},
   "source": [
    "### Model\n",
    "dataset from http://www.laurencemoroney.com/rock-paper-scissors-dataset/"
   ]
  },
  {
   "cell_type": "markdown",
   "metadata": {},
   "source": [
    "#### Extracting the data files"
   ]
  },
  {
   "cell_type": "code",
   "execution_count": 1,
   "metadata": {},
   "outputs": [],
   "source": [
    "import os\n",
    "import zipfile"
   ]
  },
  {
   "cell_type": "code",
   "execution_count": 2,
   "metadata": {},
   "outputs": [],
   "source": [
    "training_data_zip = 'data/rps.zip'\n",
    "zip_ref = zipfile.ZipFile(training_data_zip,'r')\n",
    "zip_ref.extractall('data/')\n",
    "zip_ref.close()"
   ]
  },
  {
   "cell_type": "code",
   "execution_count": 3,
   "metadata": {},
   "outputs": [],
   "source": [
    "testing_data_zip = 'data/rps-test-set.zip'\n",
    "zip_ref = zipfile.ZipFile(testing_data_zip,'r')\n",
    "zip_ref.extractall('data/')\n",
    "zip_ref.close()"
   ]
  },
  {
   "cell_type": "code",
   "execution_count": 4,
   "metadata": {},
   "outputs": [],
   "source": [
    "validating_data_zip = 'data/rps-validation.zip'\n",
    "zip_ref = zipfile.ZipFile(validating_data_zip,'r')\n",
    "zip_ref.extractall('data/rps-validation/')\n",
    "zip_ref.close()"
   ]
  },
  {
   "cell_type": "markdown",
   "metadata": {},
   "source": [
    "#### Loading the training data"
   ]
  },
  {
   "cell_type": "code",
   "execution_count": 5,
   "metadata": {},
   "outputs": [
    {
     "name": "stderr",
     "output_type": "stream",
     "text": [
      "Using TensorFlow backend.\n"
     ]
    }
   ],
   "source": [
    "from keras.preprocessing.image import ImageDataGenerator\n",
    "\n",
    "TRAINING_DIR = 'data/rps/'\n",
    "training_datagen = ImageDataGenerator(rescale = 1./255)"
   ]
  },
  {
   "cell_type": "code",
   "execution_count": 6,
   "metadata": {},
   "outputs": [
    {
     "name": "stdout",
     "output_type": "stream",
     "text": [
      "Found 2520 images belonging to 3 classes.\n"
     ]
    }
   ],
   "source": [
    "train_generator = training_datagen.flow_from_directory(\n",
    "    TRAINING_DIR,target_size=(150,150),class_mode='categorical'\n",
    ")"
   ]
  },
  {
   "cell_type": "code",
   "execution_count": 7,
   "metadata": {},
   "outputs": [],
   "source": [
    "TESTING_DIR = 'data/rps-test-set/'\n",
    "testing_datagen = ImageDataGenerator(rescale = 1./255)"
   ]
  },
  {
   "cell_type": "code",
   "execution_count": 8,
   "metadata": {},
   "outputs": [
    {
     "name": "stdout",
     "output_type": "stream",
     "text": [
      "Found 372 images belonging to 3 classes.\n"
     ]
    }
   ],
   "source": [
    "testing_generator = testing_datagen.flow_from_directory(\n",
    "    TESTING_DIR, target_size=(150,150),class_mode='categorical'\n",
    ")"
   ]
  },
  {
   "cell_type": "markdown",
   "metadata": {},
   "source": [
    "#### Building the model"
   ]
  },
  {
   "cell_type": "code",
   "execution_count": 9,
   "metadata": {},
   "outputs": [],
   "source": [
    "import tensorflow as tf"
   ]
  },
  {
   "cell_type": "code",
   "execution_count": 10,
   "metadata": {},
   "outputs": [],
   "source": [
    "model = tf.keras.models.Sequential([\n",
    "    tf.keras.layers.Conv2D(64, (3,3), activation='relu', input_shape=(150,150,3)),\n",
    "    tf.keras.layers.MaxPool2D(2,2),\n",
    "    tf.keras.layers.Conv2D(64, (3,3), activation='relu'),\n",
    "    tf.keras.layers.MaxPool2D(2,2),\n",
    "    tf.keras.layers.Conv2D(64, (3,3), activation='relu'),\n",
    "    tf.keras.layers.MaxPool2D(2,2),\n",
    "    tf.keras.layers.Conv2D(64, (3,3), activation='relu'),\n",
    "    tf.keras.layers.MaxPool2D(2,2),\n",
    "    # Flatten the results to feed into a DNN\n",
    "    tf.keras.layers.Flatten(),\n",
    "    tf.keras.layers.Dropout(0.5),\n",
    "    # 512 neuron hiden layer\n",
    "    tf.keras.layers.Dense(512,activation='relu'),\n",
    "    tf.keras.layers.Dense(3, activation='softmax')\n",
    "])"
   ]
  },
  {
   "cell_type": "code",
   "execution_count": 11,
   "metadata": {},
   "outputs": [],
   "source": [
    "model.compile(loss = 'categorical_crossentropy',\n",
    "             optimizer='rmsprop',\n",
    "             metrics=['accuracy'])"
   ]
  },
  {
   "cell_type": "code",
   "execution_count": 12,
   "metadata": {},
   "outputs": [
    {
     "name": "stdout",
     "output_type": "stream",
     "text": [
      "Epoch 1/25\n",
      "79/79 [==============================] - 112s 1s/step - loss: 0.5982 - acc: 0.7393 - val_loss: 0.7103 - val_acc: 0.7043\n",
      "Epoch 2/25\n",
      "79/79 [==============================] - 106s 1s/step - loss: 0.0642 - acc: 0.9798 - val_loss: 0.4629 - val_acc: 0.8602\n",
      "Epoch 3/25\n",
      "79/79 [==============================] - 121s 2s/step - loss: 0.0171 - acc: 0.9960 - val_loss: 0.5948 - val_acc: 0.8683\n",
      "Epoch 4/25\n",
      "79/79 [==============================] - 111s 1s/step - loss: 0.0172 - acc: 0.9956 - val_loss: 0.6328 - val_acc: 0.8790\n",
      "Epoch 5/25\n",
      "79/79 [==============================] - 102s 1s/step - loss: 0.0536 - acc: 0.9913 - val_loss: 1.1686 - val_acc: 0.8710\n",
      "Epoch 6/25\n",
      "79/79 [==============================] - 109s 1s/step - loss: 0.0507 - acc: 0.9925 - val_loss: 0.9368 - val_acc: 0.8978\n",
      "Epoch 7/25\n",
      "79/79 [==============================] - 108s 1s/step - loss: 0.0057 - acc: 0.9984 - val_loss: 0.9853 - val_acc: 0.8656\n",
      "Epoch 8/25\n",
      "79/79 [==============================] - 124s 2s/step - loss: 0.0019 - acc: 0.9988 - val_loss: 0.7008 - val_acc: 0.9086\n",
      "Epoch 9/25\n",
      "79/79 [==============================] - 101s 1s/step - loss: 0.0096 - acc: 0.9988 - val_loss: 0.7177 - val_acc: 0.9167\n",
      "Epoch 10/25\n",
      "79/79 [==============================] - 111s 1s/step - loss: 2.9198e-06 - acc: 1.0000 - val_loss: 0.7153 - val_acc: 0.9220\n",
      "Epoch 11/25\n",
      "79/79 [==============================] - 103s 1s/step - loss: 0.0011 - acc: 0.9996 - val_loss: 2.5495 - val_acc: 0.6855\n",
      "Epoch 12/25\n",
      "79/79 [==============================] - 105s 1s/step - loss: 0.0044 - acc: 0.9992 - val_loss: 0.6410 - val_acc: 0.8978\n",
      "Epoch 13/25\n",
      "79/79 [==============================] - 113s 1s/step - loss: 0.0060 - acc: 0.9996 - val_loss: 0.5466 - val_acc: 0.8978\n",
      "Epoch 14/25\n",
      "79/79 [==============================] - 109s 1s/step - loss: 2.9920e-04 - acc: 1.0000 - val_loss: 1.0292 - val_acc: 0.8602\n",
      "Epoch 15/25\n",
      "79/79 [==============================] - 107s 1s/step - loss: 2.3864e-04 - acc: 1.0000 - val_loss: 1.7094 - val_acc: 0.8602\n",
      "Epoch 16/25\n",
      "79/79 [==============================] - 110s 1s/step - loss: 0.0220 - acc: 0.9972 - val_loss: 0.7770 - val_acc: 0.9032\n",
      "Epoch 17/25\n",
      "79/79 [==============================] - 104s 1s/step - loss: 2.7725e-05 - acc: 1.0000 - val_loss: 1.1803 - val_acc: 0.8656\n",
      "Epoch 18/25\n",
      "79/79 [==============================] - 107s 1s/step - loss: 1.6996e-05 - acc: 1.0000 - val_loss: 1.1274 - val_acc: 0.9005\n",
      "Epoch 19/25\n",
      "79/79 [==============================] - 112s 1s/step - loss: 1.3765e-07 - acc: 1.0000 - val_loss: 0.9626 - val_acc: 0.9005\n",
      "Epoch 20/25\n",
      "79/79 [==============================] - 109s 1s/step - loss: 0.0062 - acc: 0.9984 - val_loss: 1.1015 - val_acc: 0.8925\n",
      "Epoch 21/25\n",
      "79/79 [==============================] - 109s 1s/step - loss: 0.0107 - acc: 0.9984 - val_loss: 1.6646 - val_acc: 0.8522\n",
      "Epoch 22/25\n",
      "79/79 [==============================] - 114s 1s/step - loss: 0.0155 - acc: 0.9988 - val_loss: 1.3231 - val_acc: 0.8629\n",
      "Epoch 23/25\n",
      "79/79 [==============================] - 109s 1s/step - loss: 0.0045 - acc: 0.9996 - val_loss: 2.1340 - val_acc: 0.7419\n",
      "Epoch 24/25\n",
      "79/79 [==============================] - 109s 1s/step - loss: 0.0226 - acc: 0.9976 - val_loss: 1.7061 - val_acc: 0.7742\n",
      "Epoch 25/25\n",
      "79/79 [==============================] - 106s 1s/step - loss: 1.5333e-04 - acc: 1.0000 - val_loss: 1.7560 - val_acc: 0.8280\n"
     ]
    }
   ],
   "source": [
    "history = model.fit_generator(train_generator,epochs=25,validation_data=testing_generator, verbose=1)"
   ]
  },
  {
   "cell_type": "code",
   "execution_count": 15,
   "metadata": {},
   "outputs": [],
   "source": [
    "import matplotlib.pyplot as plt"
   ]
  },
  {
   "cell_type": "code",
   "execution_count": 16,
   "metadata": {},
   "outputs": [
    {
     "data": {
      "image/png": "[encoded data removed]",
      "text/plain": [
       "<Figure size 432x288 with 1 Axes>"
      ]
     },
     "metadata": {
      "needs_background": "light"
     },
     "output_type": "display_data"
    }
   ],
   "source": [
    "# Plot training & validation accuracy values\n",
    "plt.plot(history.history['acc'])\n",
    "plt.plot(history.history['val_acc'])\n",
    "plt.title('Model accuracy')\n",
    "plt.ylabel('Accuracy')\n",
    "plt.xlabel('Epoch')\n",
    "plt.legend(['Train', 'Test'], loc='upper left')\n",
    "plt.show()"
   ]
  },
  {
   "cell_type": "markdown",
   "metadata": {},
   "source": [
    "#### Saving the model"
   ]
  },
  {
   "cell_type": "code",
   "execution_count": 55,
   "metadata": {},
   "outputs": [],
   "source": [
    "model.save_weights(\"firstmodel.h5\")"
   ]
  },
  {
   "cell_type": "markdown",
   "metadata": {},
   "source": [
    "#### Avoiding Overfitting"
   ]
  },
  {
   "cell_type": "markdown",
   "metadata": {},
   "source": [
    "##### image augmentation"
   ]
  },
  {
   "cell_type": "code",
   "execution_count": 17,
   "metadata": {},
   "outputs": [],
   "source": [
    "from PIL import Image\n",
    "from PIL import Image as pil_image\n",
    "from PIL import ImageDraw"
   ]
  },
  {
   "cell_type": "code",
   "execution_count": 11,
   "metadata": {},
   "outputs": [
    {
     "name": "stdout",
     "output_type": "stream",
     "text": [
      "Found 2520 images belonging to 3 classes.\n",
      "Found 72 images belonging to 3 classes.\n"
     ]
    }
   ],
   "source": [
    "augs_gen = ImageDataGenerator(\n",
    "    rescale=1./255,        \n",
    "    horizontal_flip=True,\n",
    "    height_shift_range=.2,\n",
    "    vertical_flip = True,\n",
    "    validation_split = 0.2\n",
    ")\n",
    "\n",
    "train_gen = augs_gen.flow_from_directory(\n",
    "    TRAINING_DIR,\n",
    "    target_size = (150,150),\n",
    "    batch_size=32,\n",
    "    class_mode = 'categorical',\n",
    "    shuffle=True,\n",
    ")\n",
    "\n",
    "val_gen = augs_gen.flow_from_directory(\n",
    "    TESTING_DIR,\n",
    "    target_size=(150,150),\n",
    "    batch_size=32,\n",
    "    class_mode='categorical',\n",
    "    shuffle=False,\n",
    "    subset = 'validation'\n",
    ")"
   ]
  },
  {
   "cell_type": "code",
   "execution_count": 12,
   "metadata": {},
   "outputs": [],
   "source": [
    "model.compile(loss = 'binary_crossentropy',\n",
    "             optimizer='adam',\n",
    "             metrics=['accuracy'])"
   ]
  },
  {
   "cell_type": "code",
   "execution_count": 13,
   "metadata": {},
   "outputs": [
    {
     "name": "stdout",
     "output_type": "stream",
     "text": [
      "Epoch 1/10\n",
      "50/50 [==============================] - 85s 2s/step - loss: 0.5867 - acc: 0.6965 - val_loss: 0.5744 - val_acc: 0.6790\n",
      "Epoch 2/10\n",
      "50/50 [==============================] - 85s 2s/step - loss: 0.4143 - acc: 0.8083 - val_loss: 0.3883 - val_acc: 0.7804\n",
      "Epoch 3/10\n",
      "50/50 [==============================] - 84s 2s/step - loss: 0.2176 - acc: 0.9209 - val_loss: 0.2997 - val_acc: 0.8632\n",
      "Epoch 4/10\n",
      "50/50 [==============================] - 86s 2s/step - loss: 0.1407 - acc: 0.9506 - val_loss: 0.1776 - val_acc: 0.9213\n",
      "Epoch 5/10\n",
      "50/50 [==============================] - 88s 2s/step - loss: 0.1153 - acc: 0.9615 - val_loss: 0.0808 - val_acc: 0.9808\n",
      "Epoch 6/10\n",
      "50/50 [==============================] - 80s 2s/step - loss: 0.0939 - acc: 0.9669 - val_loss: 0.1110 - val_acc: 0.9507\n",
      "Epoch 7/10\n",
      "50/50 [==============================] - 86s 2s/step - loss: 0.0698 - acc: 0.9758 - val_loss: 0.1056 - val_acc: 0.9589\n",
      "Epoch 8/10\n",
      "50/50 [==============================] - 80s 2s/step - loss: 0.0592 - acc: 0.9771 - val_loss: 0.0950 - val_acc: 0.9616\n",
      "Epoch 9/10\n",
      "50/50 [==============================] - 85s 2s/step - loss: 0.0446 - acc: 0.9852 - val_loss: 0.0618 - val_acc: 0.9759\n",
      "Epoch 10/10\n",
      "50/50 [==============================] - 83s 2s/step - loss: 0.0560 - acc: 0.9790 - val_loss: 0.1331 - val_acc: 0.9424\n"
     ]
    }
   ],
   "source": [
    "history2 = model.fit_generator(\n",
    "        train_gen,\n",
    "        steps_per_epoch=50,\n",
    "        epochs=10,\n",
    "        validation_data=val_gen,\n",
    "        validation_steps=50,\n",
    "        verbose=1)\n",
    "\n",
    "#model.fit_generator(\n",
    "# train_generator,epochs=25,validation_data=testing_generator, verbose=1)"
   ]
  },
  {
   "cell_type": "code",
   "execution_count": 14,
   "metadata": {},
   "outputs": [],
   "source": [
    "model.save_weights(\"secondmodel.h5\")"
   ]
  },
  {
   "cell_type": "code",
   "execution_count": 16,
   "metadata": {},
   "outputs": [
    {
     "data": {
      "image/png": "[encoded data removed]",
      "text/plain": [
       "<Figure size 432x288 with 1 Axes>"
      ]
     },
     "metadata": {
      "needs_background": "light"
     },
     "output_type": "display_data"
    }
   ],
   "source": [
    "# Plot training & validation accuracy values\n",
    "plt.plot(history2.history['acc'])\n",
    "plt.plot(history2.history['val_acc'])\n",
    "plt.title('Model accuracy')\n",
    "plt.ylabel('Accuracy')\n",
    "plt.xlabel('Epoch')\n",
    "plt.legend(['Train', 'Test'], loc='upper left')\n",
    "plt.show()"
   ]
  },
  {
   "cell_type": "code",
   "execution_count": 23,
   "metadata": {},
   "outputs": [],
   "source": [
    "from keras.preprocessing import image\n",
    "import numpy as np"
   ]
  },
  {
   "cell_type": "code",
   "execution_count": 29,
   "metadata": {},
   "outputs": [],
   "source": [
    "def print_prediction(values,names):\n",
    "    for i in range(3):\n",
    "        if values[i] > 0:\n",
    "            print(names[i])\n",
    "            break"
   ]
  },
  {
   "cell_type": "code",
   "execution_count": 31,
   "metadata": {},
   "outputs": [],
   "source": [
    "names = ['paper', 'rock', 'scissors']"
   ]
  },
  {
   "cell_type": "code",
   "execution_count": 37,
   "metadata": {},
   "outputs": [],
   "source": [
    "img_width, img_height = 150, 150\n",
    "img = image.load_img('data/rps-validation/scissors-hires1.png',target_size=(img_width,img_height))\n",
    "img = image.img_to_array(img)\n",
    "img = np.expand_dims(img, axis=0)\n",
    "values = model.predict(img)"
   ]
  },
  {
   "cell_type": "code",
   "execution_count": 38,
   "metadata": {},
   "outputs": [
    {
     "name": "stdout",
     "output_type": "stream",
     "text": [
      "scissors\n"
     ]
    }
   ],
   "source": [
    "print_prediction(values[0],names)"
   ]
  },
  {
   "cell_type": "code",
   "execution_count": null,
   "metadata": {},
   "outputs": [],
   "source": []
  }
 ],
 "metadata": {
  "kernelspec": {
   "display_name": "Python 3",
   "language": "python",
   "name": "python3"
  },
  "language_info": {
   "codemirror_mode": {
    "name": "ipython",
    "version": 3
   },
   "file_extension": ".py",
   "mimetype": "text/x-python",
   "name": "python",
   "nbconvert_exporter": "python",
   "pygments_lexer": "ipython3",
   "version": "3.6.8"
  }
 },
 "nbformat": 4,
 "nbformat_minor": 2
}
